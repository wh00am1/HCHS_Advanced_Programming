{
  "nbformat": 4,
  "nbformat_minor": 0,
  "metadata": {
    "colab": {
      "provenance": [],
      "collapsed_sections": []
    },
    "kernelspec": {
      "name": "python3",
      "display_name": "Python 3"
    },
    "language_info": {
      "name": "python"
    }
  },
  "cells": [
    {
      "cell_type": "markdown",
      "metadata": {
        "id": "NWluBypycg1G"
      },
      "source": [
        "# **<font color=#FF0000>在開始寫作業之前，請先參考[教材資料夾內的資料上傳說明](https://drive.google.com/file/d/1vwa9cGuZfpLKDLFe3pM5B0SdHFohESZu/view?usp=sharing)進行檔案上傳喔！</font>**"
      ]
    },
    {
      "cell_type": "markdown",
      "metadata": {
        "id": "dD3OGjglcmvz"
      },
      "source": [
        "# Homework 4 - 1\n",
        "\n",
        "青蛙大學是一間小有名氣的教育機構，然傳言其行政部門效率奇差，請款經常數月不發，導致眾多潦倒的教職員生因此到火車站賣包包以求生存，如此敗壞校譽的行徑如何能忍！\n",
        "\n",
        "經學生會介入調查後，發現青蛙大學的行政人員毫無管理概念，在教職員人數龐大的情況下，竟還直接將所有人的採購紀錄直接記錄於單一文字檔案中，還全無進行分類，這才導致會計統計與對帳時遭遇了極大的困難。\n",
        "\n",
        "總是賣包包也不是辦法，還會導致大臣被流放，於是飽受缺錢所苦的青蛙人找上了大名鼎鼎的新竹中學尋求協助：聰明絕頂的你能寫一個程式，幫忙將每位教職員生的請款單分別統整嗎？  \n",
        "\n",
        "（故事純屬虛構，如有雷同，那就雷同。）\n",
        "\n",
        "（感謝[漁夫](https://www.youtube.com/watch?v=ftP6dB6SSxw)友情出演。）\n",
        "\n",
        "## 輸入輸出\n",
        "\n",
        "### 輸入\n",
        "每個檔案總共 $N$ 行，$N$ 為正整數，$1 \\leq N < 1000$。  \n",
        "每行資料包含兩個值 $p$, $i$，以單一半形空格相接。  \n",
        "$p$ 代表購買人姓名，$i$ 代表購買物品，此二值可能包含中文或英文，保證期間無空白存在。  \n",
        "\n",
        "### 輸出\n",
        "請根據不同購買者分別建立以其姓名為檔名之文字檔。  \n",
        "每個檔案中有數行，每行包含兩個值 $i$ 與 $c$，中間以單一半形空格相接。  \n",
        "$i$ 為該購買者所購買之物品，$c$ 為與該物品總購買數量。\n",
        "\n",
        "### 範例輸入1\n",
        "```\n",
        "小明 膠帶\n",
        "小明 筆記本\n",
        "小明 膠帶\n",
        "```\n",
        "\n",
        "### 範例輸出1\n",
        "本測資有 1 個檔案輸出。\n",
        "\n",
        "檔案1: 小明.txt\n",
        "```\n",
        "膠帶 2\n",
        "筆記本 1\n",
        "```\n",
        "\n",
        "### 範例輸入2\n",
        "```\n",
        "小明 膠帶\n",
        "小花 馬克筆\n",
        "小明 筆記本\n",
        "小花 馬克筆\n",
        "```\n",
        "\n",
        "### 範例輸出2\n",
        "本測資有 2 個檔案輸出。\n",
        "\n",
        "檔案1: 小明.txt\n",
        "```\n",
        "膠帶 1\n",
        "筆記本 1\n",
        "```\n",
        "\n",
        "檔案2: 小花.txt\n",
        "```\n",
        "馬克筆 2\n",
        "```\n",
        "\n"
      ]
    },
    {
      "cell_type": "code",
      "source": [
        "print('wwwwwww')"
      ],
      "metadata": {
        "id": "6yts7FKUXMLX",
        "colab": {
          "base_uri": "https://localhost:8080/"
        },
        "outputId": "a619e467-70d7-499b-b69b-8215390ea910"
      },
      "execution_count": null,
      "outputs": [
        {
          "output_type": "stream",
          "name": "stdout",
          "text": [
            "wwwwwww\n"
          ]
        }
      ]
    },
    {
      "cell_type": "code",
      "metadata": {
        "id": "6K_IKPcKb5Ha"
      },
      "source": [
        "files = ['file1.txt', 'file2.txt', 'file3.txt', 'file4.txt', 'file5.txt']"
      ],
      "execution_count": null,
      "outputs": []
    },
    {
      "cell_type": "code",
      "metadata": {
        "id": "ssgRbmkjLGsI"
      },
      "source": [
        "def counter(l):\n",
        "  substr = list(set(l))\n",
        "  tmp = {}\n",
        "  for i in range(len(substr)):\n",
        "    tmp[substr[i]] = 0\n",
        "    for j in range(len(l)):\n",
        "      tmp[substr[i]] += (l[j] == substr[i])\n",
        "  s, res = sorted(tmp.items(), key=lambda x:x[1], reverse=1), {}\n",
        "  for i in range(len(s)):\n",
        "    res[s[i][0]] = s[i][1]\n",
        "  return res\n",
        "\n",
        "def solve(path):\n",
        "  f = open(path, 'r')\n",
        "  #print('#####File: {}'.format(path))\n",
        "  p, tmp = [], []\n",
        "  for l in f.readlines():\n",
        "    tmp.append(l)\n",
        "    p.append(l.split()[0])\n",
        "  p = list(set(p))\n",
        "  for i in range(len(p)):\n",
        "    #print('#####Name: {}'.format(p[i]))\n",
        "    w = open('data/{}.txt'.format(p[i]), 'w+')\n",
        "    owo = []\n",
        "    for j in range(len(tmp)):\n",
        "      s = tmp[j].split()\n",
        "      if s[0] == p[i]:\n",
        "        owo.append(s[1])\n",
        "    ans = counter(owo)\n",
        "    for k, v in ans.items():\n",
        "      #print('{} {}'.format(k, v))\n",
        "      w.write('{} {}\\n'.format(k, v))\n",
        "    w.close()\n",
        "  f.close()\n",
        "\n",
        "for i in range(5):\n",
        "  solve('data/file{}.txt'.format(i+1))"
      ],
      "execution_count": null,
      "outputs": []
    },
    {
      "cell_type": "code",
      "source": [],
      "metadata": {
        "colab": {
          "base_uri": "https://localhost:8080/"
        },
        "id": "xEHa_EFwzLh5",
        "outputId": "c1a4f95b-eff8-4046-9b43-568d55e81cf4"
      },
      "execution_count": null,
      "outputs": [
        {
          "output_type": "stream",
          "name": "stdout",
          "text": [
            "Mounted at /content/drive\n"
          ]
        }
      ]
    },
    {
      "cell_type": "markdown",
      "metadata": {
        "id": "MQ3P6U4kGle9"
      },
      "source": [
        "## 測資說明\n",
        "* 請於[此資料夾](https://drive.google.com/drive/folders/1guhlLnBC0UXdC7PihPurH69xGrCJjLL7?usp=sharing)下載測資。\n",
        "* 各測資範例輸出請看[此資料夾](https://drive.google.com/drive/folders/1YKCmzHnl9eaZ6ZpCIpP4-8YAS-EFSTfq?usp=sharing)。\n",
        "\n",
        "\\#1  \n",
        "$1 \\leq N < 10$，購買人皆相同，且購買物皆不同，檔案只含英文字。\n",
        "\n",
        "\\#2  \n",
        "$1 \\leq N < 10$，購買人皆相同，且可能有相同購買物，檔案只含英文字。\n",
        "\n",
        "\\#3  \n",
        "$1 \\leq N < 20$，有不同購買人，且可能有相同購買物，檔案只含英文字。\n",
        "\n",
        "\\#4  \n",
        "$10 \\leq N < 50$，有不同購買人，且可能有相同購買物，檔案可能含非英文字。\n",
        "\n",
        "\\#5  \n",
        "$100 \\leq N < 1000$，綜合。\n"
      ]
    },
    {
      "cell_type": "markdown",
      "source": [
        "---"
      ],
      "metadata": {
        "id": "GvzrDtD0fVXY"
      }
    },
    {
      "cell_type": "markdown",
      "source": [
        "# Homework 4 - 2\n",
        "媒體每隔一陣子就會報導台灣的薪資分佈，比如中位數、平均數等等。這一次的作業就要請各位幫我們動手算一下薪資的分佈囉！\n",
        "\n",
        "利用今天所學到的知識，我們要請各位：\n",
        "\n",
        "\n",
        "1.   定義一個叫做 `SalaryDistribution` 的 class\n",
        "2.   它的初始化除了 `self` 以外，要接受一個參數 `salaries`，在這邊直接假設它只會是一個只儲存整數的 list\n",
        "3.   在這個 class 底下定義四個 method，它們的參數只有 `self`\n",
        "  * min: 回傳 `salaries` 的最小值\n",
        "  * max: 回傳 `salaries` 的最大值\n",
        "  * median: 回傳 `salaries` 的中位數\n",
        "      * 中位數：由小排到大之後，長度 $N$ 為奇數時取第 $(N+1)/2$ 個數字，為偶數則取第 $N/2$ 個數字\n",
        "  * mean: 回傳 `salaries` 的[平均數](https://zh.wikipedia.org/wiki/%E5%B9%B3%E5%9D%87%E6%95%B0)\n",
        "\n",
        "## 輸入輸出\n",
        "\n",
        "### 輸入\n",
        "每個測試用的變數 `salaries` 都是一個長度為 $N$ 的 list，$1 \\leq N < 1000$。\n",
        "\n",
        "### 輸出\n",
        "印出使用 `SalaryDistribution` 的四個 method 計算出來的統計數字。\n",
        "\n",
        "### 範例輸入1\n",
        "```python\n",
        "salaries = [1, 2, 3, 4, 5]\n",
        "```\n",
        "\n",
        "### 範例計算1\n",
        "```python\n",
        "salary_distribution = SalaryDistribution(salaries)\n",
        "minimum = salary_distribution.min()\n",
        "maximum = salary_distribution.max()\n",
        "median = salary_distribution.median()\n",
        "mean = salary_distribution.mean()\n",
        "```\n",
        "\n",
        "### 範例輸出1\n",
        "```\n",
        "min: 1\n",
        "max: 5\n",
        "median: 3\n",
        "mean: 3\n",
        "```"
      ],
      "metadata": {
        "id": "D7uNSNPgfVgD"
      }
    },
    {
      "cell_type": "code",
      "source": [
        "# 在此處定義你的 class 以及 methods"
      ],
      "metadata": {
        "id": "i_O598U_fhts"
      },
      "execution_count": null,
      "outputs": []
    },
    {
      "cell_type": "code",
      "source": [
        "class SalaryDistribution:\n",
        "  def __init__(self, salary):\n",
        "    self.salary = salary\n",
        "  def min(self):\n",
        "    tmp = sorted(self.salary, reverse=0)\n",
        "    return tmp[0]\n",
        "  def max(self):\n",
        "    tmp = sorted(self.salary, reverse=1)\n",
        "    return tmp[0]\n",
        "  def median(self):\n",
        "    tmp = sorted(self.salary)\n",
        "    if len(self.salary) == 1:\n",
        "      return self.salary[0]\n",
        "    elif len(self.salary) % 2 == 0:\n",
        "      idx = int(len(self.salary)/2)\n",
        "      return (tmp[idx] + tmp[idx+1])/2\n",
        "    else:\n",
        "      idx = (len(self.salary)-1)/2 + 1\n",
        "      return tmp[int(idx)]\n",
        "  def mean(self):\n",
        "    sum = 0\n",
        "    for i in range(len(self.salary)):\n",
        "      sum += self.salary[i]\n",
        "    return sum/len(self.salary)\n",
        "\n",
        "def main():\n",
        "  for i in range(5):\n",
        "    f = open('data/test{}.txt'.format(i+1))\n",
        "    l = f.readline().split()\n",
        "    for i in range(len(l)):\n",
        "      l[i] = int(l[i])\n",
        "    s = SalaryDistribution(l)\n",
        "    print('min: ', s.min())\n",
        "    print('max: ', s.max())\n",
        "    print('median: ', s.median())\n",
        "    print('mean: ', s.mean())\n",
        "\n",
        "if __name__ == '__main__':\n",
        "  main()"
      ],
      "metadata": {
        "id": "lrV3sDDcfiy7",
        "colab": {
          "base_uri": "https://localhost:8080/"
        },
        "outputId": "6fa7a105-0e74-4627-9658-cac8d5ef1ed7"
      },
      "execution_count": 21,
      "outputs": [
        {
          "output_type": "stream",
          "name": "stdout",
          "text": [
            "min:  22000\n",
            "max:  22000\n",
            "median:  22000\n",
            "mean:  22000.0\n",
            "min:  22000\n",
            "max:  45000\n",
            "median:  45000\n",
            "mean:  32333.333333333332\n",
            "min:  22000\n",
            "max:  50000\n",
            "median:  47500.0\n",
            "mean:  36750.0\n",
            "min:  22046\n",
            "max:  69944\n",
            "median:  46452\n",
            "mean:  46527.49500998004\n",
            "min:  22044\n",
            "max:  69815\n",
            "median:  45980.5\n",
            "mean:  45303.924302788844\n"
          ]
        }
      ]
    },
    {
      "cell_type": "markdown",
      "source": [
        "### Test 範例"
      ],
      "metadata": {
        "id": "omLXAAbgftR9"
      }
    },
    {
      "cell_type": "code",
      "source": [
        "# 請不要執行這個區塊裡面的程式碼\n",
        "# 這個只是提示各位可以這樣呈現結果\n",
        "\n",
        "salaries = read_test_data('test0.txt')\n",
        "\n",
        "salary_distribution = SalaryDistribution(salaries)\n",
        "\n",
        "minimum = salary_distribution.min()\n",
        "maximum = salary_distribution.max()\n",
        "median = salary_distribution.median()\n",
        "mean = salary_distribution.mean()\n",
        "\n",
        "print('min:', minimum)\n",
        "print('max:', maximum)\n",
        "print('median:', median)\n",
        "print('mean:', mean)"
      ],
      "metadata": {
        "id": "s7w1-hROfvis"
      },
      "execution_count": null,
      "outputs": []
    },
    {
      "cell_type": "markdown",
      "source": [
        "### Test 1\n"
      ],
      "metadata": {
        "id": "KzScazk0fzT4"
      }
    },
    {
      "cell_type": "code",
      "source": [
        "salaries = read_test_data('data/test1.txt')\n",
        "\n",
        "# 在下方寫你的 code"
      ],
      "metadata": {
        "id": "R5MyGxY4f3PE"
      },
      "execution_count": null,
      "outputs": []
    },
    {
      "cell_type": "markdown",
      "source": [
        "### 預期輸出\n",
        "\n",
        "```\n",
        "min: 22000\n",
        "max: 22000\n",
        "median: 22000\n",
        "mean: 22000.0\n",
        "```"
      ],
      "metadata": {
        "id": "qtmCn5c5gF33"
      }
    },
    {
      "cell_type": "markdown",
      "source": [
        "### Test 2"
      ],
      "metadata": {
        "id": "pTFURW9zfVle"
      }
    },
    {
      "cell_type": "markdown",
      "source": [
        "### 預期輸出\n",
        "```\n",
        "min: 22000\n",
        "max: 45000\n",
        "median: 30000\n",
        "mean: 32333.333333333332\n",
        "```"
      ],
      "metadata": {
        "id": "EDT5qSyagLux"
      }
    },
    {
      "cell_type": "markdown",
      "metadata": {
        "id": "NeD8v5h6L72L"
      },
      "source": [
        "## 作業繳交說明\n",
        "\n",
        "1. 將程式碼從 colab 下載（點選檔案或左上角[檔案]>下載>下載.ipynb），檔名改為 `{學號-姓名.ipynb}` (e.g., `110062626-吳彥祖.ipynb`)\n",
        "2. 將檔案上傳至 google classroom，完成～   \n",
        "3. 繳交期限：12/2 11:59 p.m.\n"
      ]
    },
    {
      "cell_type": "code",
      "source": [],
      "metadata": {
        "id": "iQAVS_a3hpjk"
      },
      "execution_count": null,
      "outputs": []
    }
  ]
}