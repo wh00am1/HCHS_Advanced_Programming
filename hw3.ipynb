{
  "nbformat": 4,
  "nbformat_minor": 0,
  "metadata": {
    "kernelspec": {
      "display_name": "Python 3",
      "language": "python",
      "name": "python3"
    },
    "language_info": {
      "codemirror_mode": {
        "name": "ipython",
        "version": 3
      },
      "file_extension": ".py",
      "mimetype": "text/x-python",
      "name": "python",
      "nbconvert_exporter": "python",
      "pygments_lexer": "ipython3",
      "version": "3.7.6"
    },
    "colab": {
      "provenance": [],
      "collapsed_sections": []
    }
  },
  "cells": [
    {
      "cell_type": "markdown",
      "metadata": {
        "id": "0eqQqYPqMiV_"
      },
      "source": [
        "# **<font color=#FF0000>在開始寫作業之前，請先參考[教材資料夾內的資料上傳說明](https://drive.google.com/file/d/1vwa9cGuZfpLKDLFe3pM5B0SdHFohESZu/view?usp=sharing)，建立好 data 資料夾喔！</font>**"
      ]
    },
    {
      "cell_type": "markdown",
      "metadata": {
        "id": "_tViV8khMiWD"
      },
      "source": [
        "# Homework 3\n",
        "人工智慧(aka AI)領域中，很常見的處理文字方法，是計算各字出現的次數，找出高頻的字，電腦就有機會理解文字的意思，所以學會計算字出現的次數，你就有機會可以跟電腦對話了！\n",
        "\n",
        "---\n",
        "## 作業要求\n",
        "請統計文章中，各字出現的次數。\n",
        "* 以空白區分，所以 'I don't care'視為三個字，分別為*I*, *don't*, *care*各一次。\n",
        "* 不同時態等變形的情況，視為不同字，例如*play*和*plays*視為兩種字，同時出現時，各算一次。\n",
        "\n",
        "#### Example: \n",
        "\n",
        "輸入：twinkle twinkle little star\n",
        "1. 以空白為切點，切割文章成twinkle, twinkle, little, star四個字\n",
        "2. 計算各字出現的頻率\n",
        "\n",
        "輸出：'twinkle': 2, 'little': 1, 'star': 1\n",
        "\n",
        "##### Hint1: 字串名稱.split(\" \")可以切割字串成list\n",
        "##### Hint2: 善用今天所學的counter，記得要import！\n",
        "\n",
        "---\n",
        "## 評分\n",
        "一共有五篇文章，article1.txt ~ article5.txt<br>\n",
        "只要輸出結果跟預期答案一樣，就可以拿到分數～<br>一個正確可以得到這次作業20分，5個都正確，就可以拿到滿分喔\n",
        "\n",
        "---\n",
        "## 讀取資料的函數\n",
        "\n",
        "以下提供讀取資料的函數給同學們使用，只要使用就好，不需要理解或修改它！"
      ]
    },
    {
      "cell_type": "code",
      "metadata": {
        "id": "TU9b1DkyMiWE"
      },
      "source": [
        "def read_data(path):\n",
        "    with open(path) as f:\n",
        "        data = f.read().rstrip()\n",
        "    return data"
      ],
      "execution_count": null,
      "outputs": []
    },
    {
      "cell_type": "markdown",
      "metadata": {
        "id": "B11wcopsMiWG"
      },
      "source": [
        "---\n",
        "## 作答區\n",
        "更換article?.txt的數字，就可以替換不同文章了唷！"
      ]
    },
    {
      "cell_type": "code",
      "metadata": {
        "id": "GEXp8Y3BMiWG",
        "colab": {
          "base_uri": "https://localhost:8080/"
        },
        "outputId": "c0594116-fc31-4952-8349-6b4922ef7757"
      },
      "source": [
        "#!/usr/bin/env python3\n",
        "\n",
        "def read_file(path):\n",
        "  f = open(path, 'r')\n",
        "  return f.read()\n",
        "\n",
        "def solve(data):\n",
        "  l = data.split()\n",
        "  substr = list(set(l))\n",
        "  tmp, ans = {}, {}\n",
        "  for i in range(len(substr)):\n",
        "    tmp[substr[i]] = 0\n",
        "    for j in range(len(l)):\n",
        "      tmp[substr[i]] += (l[j] == substr[i])\n",
        "  s = sorted(tmp.items(), key=lambda x:x[1], reverse=1)\n",
        "  for i in range(len(s)):\n",
        "    ans[s[i][0]] = s[i][1]\n",
        "  return ans\n",
        "\n",
        "def main():\n",
        "  for i in range(5):\n",
        "    print('{}.'.format(i+1))\n",
        "    print('Counter(', end='')\n",
        "    print(solve(read_file('data/article{}.txt'.format(i+1))), end='')\n",
        "    print(')\\n')\n",
        "\n",
        "if __name__ == '__main__':\n",
        "\tmain()"
      ],
      "execution_count": 10,
      "outputs": [
        {
          "output_type": "stream",
          "name": "stdout",
          "text": [
            "1.\n",
            "Counter({'twinkle': 2, 'star': 1, 'little': 1})\n",
            "\n",
            "2.\n",
            "Counter({'in': 3, 'his': 1, 'sprained': 1, 'remained': 1, 'confidence': 1, 'though': 1, 'a': 1, 'quiet': 1, 'tone': 1, 'davis': 1, 'thumb': 1, 'it': 1, 'anthony': 1, 'right': 1, 'even': 1, 'expressed': 1, 'wrapped': 1, 'tape': 1})\n",
            "\n",
            "3.\n",
            "Counter({'the': 5, 'and': 3, 'her': 3, 'himself': 2, 'in': 2, 'bed': 2, 'he': 2, 'cap': 1, 'straight': 1, 'to': 1, 'put': 1, 'door': 1, 'dressed': 1, 'then': 1, 'word': 1, 'on': 1, 'devoured': 1, 'clothes': 1, 'without': 1, 'a': 1, 'sprang': 1, 'drew': 1, 'curtains': 1, 'wolf': 1, 'lifted': 1, 'latch': 1, 'grandmothers': 1, 'open': 1, 'laid': 1, 'saying': 1, 'went': 1})\n",
            "\n",
            "4.\n",
            "Counter({'i': 22, 'to': 19, 'my': 15, 'bad': 14, 'lead': 14, 'habits': 14, 'the': 12, 'oohooh': 12, 'you': 11, 'know': 8, 'or': 6, 'a': 6, 'lose': 6, 'nothin': 6, 'its': 6, 'true': 6, 'it': 5, 'and': 5, 'out': 4, 'say': 4, 'now': 4, 'control': 4, 'got': 4, 'cant': 4, 'two': 4, 'way': 4, 'be': 3, 'happens': 3, 'for': 3, 'this': 3, 'but': 3, 'do': 3, 'ill': 3, 'was': 3, 'alone': 3, 'late': 3, 'escape': 3, 'last': 3, 'wide': 3, 'nights': 3, 'will': 3, 'swearin': 3, 'eyes': 3, 'into': 3, 'every': 3, 'conversations': 3, 'things': 3, 'stare': 3, 'wont': 3, 'that': 3, 'barely': 3, 'with': 3, 'lookin': 3, 'left': 3, 'use': 3, 'of': 3, 'probably': 3, 'space': 3, 'yeah': 3, 'endin': 3, 'stranger': 3, 'after': 3, 'time': 2, 'ooh': 2, 'times': 2, 'far': 1, 'all': 1, 'before': 1, 'too': 1, 'burned': 1, 'world': 1, 'come': 1, 'fun': 1, 'let': 1, 'til': 1, 'ends': 1, 'good': 1, 'sun': 1, 'take': 1, 'pure': 1, 'something': 1, 'fallin': 1, 'one': 1, 'go': 1, 'three': 1, 'can': 1, 'wonderful': 1, 'we': 1, 'goes': 1, 'when': 1, 'implodes': 1, 'round': 1, 'under': 1, 'feel': 1, 'around': 1, 'no': 1, 'down': 1, 'had': 1, 'long': 1, 'ran': 1, 'intention': 1, 'first': 1, 'neon': 1, 'spark': 1, 'dark': 1, 'tonight': 1, 'reach': 1, 'only': 1, 'lights': 1, 'then': 1, 'started': 1, 'over': 1, 'start': 1, 'everything': 1, 'paradise': 1, 'took': 1, 'how': 1, 'four': 1})\n",
            "\n",
            "5.\n",
            "Counter({'the': 12, 'rocket': 9, 'to': 9, 'a': 8, 'of': 5, 'its': 4, 'on': 4, 'put': 3, 'into': 3, 'and': 3, 'space': 3, 'over': 3, 'company': 3, 'orbit': 2, 'it': 2, 'before': 2, 'but': 2, 'which': 2, 'launch': 2, 'not': 2, 'midair': 2, 'one': 2, 'from': 2, 'back': 2, 'attempted': 2, 'early': 2, 'startup': 2, 'hopes': 2, 'itself': 2, 'have': 2, 'force': 2, 'then': 2, 'thursday': 2, 'or': 1, 'people': 1, 'firstever': 1, 'pad': 1, 'out': 1, 'toward': 1, 'speeds': 1, 'abort': 1, 'cartwheel': 1, 'for': 1, 'dives': 1, 'technology': 1, 'this': 1, 'has': 1, 'uncontrolled': 1, 'endured': 1, 'was': 1, 'coast': 1, 'flames': 1, 'attempt': 1, 'would': 1, 'day': 1, 'smooth': 1, 'california': 1, 'destroy': 1, '43foottall': 1, 'base': 1, 'week': 1, 'last': 1, 'astr': 1, 'spacex': 1, 'liftoff': 1, 'will': 1, 'vehicle': 1, 'firefly': 1, 'us': 1, 'veered': 1, 'supersonic': 1, 'lose': 1, 'pacific': 1, 'in': 1, 'as': 1, 'harmed': 1, 'astra': 1, 'theres': 1, 'development': 1, 'no': 1, 'exploding': 1, 'dashing': 1, 'los': 1, 'turning': 1, 'explosive': 1, 'that': 1, 'began': 1, 'phases': 1, 'officials': 1, 'with': 1, 'ocean': 1, 'business': 1, 'earths': 1, 'several': 1, 'an': 1, 'north': 1, 'many': 1, 'year': 1, 'directed': 1, 'humans': 1, 'californiabased': 1, 'approached': 1, 'off': 1, 'taken': 1, 'plan': 1, '100-foot-tall': 1, 'is': 1, 'vandenberg': 1, 'property': 1, 'appeared': 1, 'alaska': 1, 'during': 1, 'explosions': 1, 'launching': 1, 'earth': 1, '2021': 1, 'only': 1, 'right': 1, 'burst': 1, 'soared': 1, 'evening': 1, 'example': 1, 'angeles': 1, 'emergency': 1, 'texasbased': 1, 'prototypes': 1, 'ground': 1, 'tumble': 1, 'similar': 1, 'fireflys': 1, 'sideways': 1, 'mars': 1, 'after': 1, 'so': 1, 'called': 1, 'launched': 1})\n",
            "\n"
          ]
        }
      ]
    },
    {
      "cell_type": "markdown",
      "metadata": {
        "id": "xZF3FOOBMiWH"
      },
      "source": [
        "## 預期答案\n",
        "\n",
        "<ol>\n",
        "<li><br>Counter({'twinkle': 2, 'little': 1, 'star': 1})</li>\n",
        "<li><br>Counter({'in': 3, 'a': 1, 'quiet': 1, 'tone': 1, 'anthony': 1, 'davis': 1, 'expressed': 1, 'confidence': 1, 'his': 1, 'sprained': 1, 'right': 1, 'thumb': 1, 'even': 1, 'though': 1, 'it': 1, 'remained': 1, 'wrapped': 1, 'tape': 1})</li>\n",
        "<li><br>Counter({'the': 5, 'and': 3, 'her': 3, 'he': 2, 'bed': 2, 'himself': 2, 'in': 2, 'wolf': 1, 'lifted': 1, 'latch': 1, 'door': 1, 'sprang': 1, 'open': 1, 'without': 1, 'saying': 1, 'a': 1, 'word': 1, 'went': 1, 'straight': 1, 'to': 1, 'grandmothers': 1, 'devoured': 1, 'then': 1, 'put': 1, 'on': 1, 'clothes': 1, 'dressed': 1, 'cap': 1, 'laid': 1, 'drew': 1, 'curtains': 1})</li>\n",
        "<li><br>Counter({'i': 22, 'to': 19, 'my': 15, 'bad': 14, 'habits': 14, 'lead': 14, 'the': 12, 'oohooh': 12, 'you': 11, 'know': 8, 'a': 6, 'nothin': 6, 'lose': 6, 'or': 6, 'its': 6, 'true': 6, 'and': 5, 'it': 5, 'two': 4, 'cant': 4, 'say': 4, 'control': 4, 'got': 4, 'way': 4, 'out': 4, 'now': 4, 'every': 3, 'late': 3, 'nights': 3, 'endin': 3, 'alone': 3, 'conversations': 3, 'with': 3, 'stranger': 3, 'barely': 3, 'swearin': 3, 'this': 3, 'will': 3, 'be': 3, 'last': 3, 'but': 3, 'probably': 3, 'wont': 3, 'left': 3, 'use': 3, 'do': 3, 'wide': 3, 'eyes': 3, 'stare': 3, 'into': 3, 'space': 3, 'ill': 3, 'of': 3, 'things': 3, 'that': 3, 'yeah': 3, 'was': 3, 'lookin': 3, 'for': 3, 'escape': 3, 'happens': 3, 'after': 3, 'ooh': 2, 'time': 2, 'times': 2, 'one': 1, 'three': 1, 'four': 1, 'come': 1, 'around': 1, 'no': 1, 'sun': 1, 'goes': 1, 'down': 1, 'let': 1, 'take': 1, 'can': 1, 'feel': 1, 'paradise': 1, 'before': 1, 'world': 1, 'implodes': 1, 'tonight': 1, 'had': 1, 'something': 1, 'wonderful': 1, 'pure': 1, 'intention': 1, 'ends': 1, 'when': 1, 'good': 1, 'start': 1, 'fallin': 1, 'over': 1, 'everything': 1, 'reach': 1, 'first': 1, 'spark': 1, 'started': 1, 'under': 1, 'neon': 1, 'lights': 1, 'then': 1, 'all': 1, 'dark': 1, 'only': 1, 'how': 1, 'go': 1, 'too': 1, 'far': 1, 'we': 1, 'took': 1, 'long': 1, 'round': 1, 'burned': 1, 'til': 1, 'fun': 1, 'ran': 1})</li>\n",
        "<li><br>Counter({'the': 12, 'rocket': 9, 'to': 9, 'a': 8, 'of': 5, 'on': 4, 'its': 4, 'into': 3, 'put': 3, '': 3, 'space': 3, 'over': 3, 'and': 3, 'company': 3, 'midair': 2, 'from': 2, 'thursday': 2, 'hopes': 2, 'startup': 2, 'orbit': 2, 'launch': 2, 'which': 2, 'force': 2, 'have': 2, 'it': 2, 'but': 2, 'then': 2, 'itself': 2, 'before': 2, 'not': 2, 'back': 2, 'one': 2, 'attempted': 2, 'early': 2, '100-foot-tall': 1, 'burst': 1, 'flames': 1, 'after': 1, 'launching': 1, 'california': 1, 'evening': 1, 'dashing': 1, 'texasbased': 1, 'earths': 1, 'firstever': 1, 'attempt': 1, 'launched': 1, 'vandenberg': 1, 'base': 1, 'north': 1, 'los': 1, 'angeles': 1, 'appeared': 1, 'smooth': 1, 'liftoff': 1, 'as': 1, 'soared': 1, 'out': 1, 'pacific': 1, 'ocean': 1, 'approached': 1, 'supersonic': 1, 'speeds': 1, 'began': 1, 'cartwheel': 1, 'turning': 1, 'us': 1, 'officials': 1, 'ground': 1, 'directed': 1, 'destroy': 1, 'called': 1, 'an': 1, 'emergency': 1, 'abort': 1, 'so': 1, 'that': 1, 'would': 1, 'tumble': 1, 'uncontrolled': 1, 'toward': 1, 'people': 1, 'or': 1, 'property': 1, 'no': 1, 'was': 1, 'harmed': 1, 'firefly': 1, 'is': 1, 'only': 1, 'lose': 1, 'in': 1, '2021': 1, 'astra': 1, 'astr': 1, 'californiabased': 1, 'with': 1, 'similar': 1, 'business': 1, 'plan': 1, 'fireflys': 1, 'last': 1, 'week': 1, '43foottall': 1, 'vehicle': 1, 'veered': 1, 'sideways': 1, 'off': 1, 'pad': 1, 'right': 1, 'exploding': 1, 'coast': 1, 'alaska': 1, 'theres': 1, 'spacex': 1, 'has': 1, 'endured': 1, 'many': 1, 'explosions': 1, 'during': 1, 'development': 1, 'phases': 1, 'technology': 1, 'prototypes': 1, 'will': 1, 'day': 1, 'humans': 1, 'mars': 1, 'for': 1, 'example': 1, 'taken': 1, 'several': 1, 'explosive': 1, 'dives': 1, 'earth': 1, 'this': 1, 'year': 1})</li>\n",
        "</ol>\n"
      ]
    },
    {
      "cell_type": "markdown",
      "metadata": {
        "id": "LMRcqrUWMiWJ"
      },
      "source": [
        "---\n",
        "\n",
        "## 加分題\n",
        "有時後，單看一個字並沒有辦法正確地表達語意，例如`look after`這個片語，如果單看look和after，並沒有辦法取得正確的語意，因此為了應付這個狀況，我們也需要統計兩個字一組的頻率。\n",
        "\n",
        "---\n",
        "## 加分題要求\n",
        "統計文章所有相鄰兩個字出現的頻率。\n",
        "\n",
        "#### Example: \n",
        "\n",
        "輸入：twinkle twinkle little star\n",
        "1. 以空白為切點，切割文章成twinkle, twinkle, little, star四個字\n",
        "2. 將切好的字分成兩兩一組twinkle twinkle, twinkle little, little star\n",
        "2. 計算各字出現的頻率\n",
        "\n",
        "輸出：'twinkle twinkle': 1, 'twinkle little': 1, 'little star': 1\n",
        "\n",
        "加分題只有一篇文章：bonus.txt，輸出結果跟預期答案一樣的話，可以加20分！\n",
        "\n",
        "### **<font color=#FF0000>如果你不打算寫加分題，直接空著就好</font>**"
      ]
    },
    {
      "cell_type": "code",
      "metadata": {
        "id": "174NK78CMiWK",
        "outputId": "0d1050a9-cc18-40c7-f8aa-875da80cd51c",
        "colab": {
          "base_uri": "https://localhost:8080/"
        }
      },
      "source": [
        "#!/usr/bin/env python3\n",
        "\n",
        "def main():\n",
        "  f = open('data/bonus.txt', 'r')\n",
        "  data = f.read()\n",
        "  l = data.split()\n",
        "  substr, tmp, ans = [], {}, {}\n",
        "  for i in range(len(l)-1):\n",
        "    substr.append(l[i] + ' ' + l[i+1])\n",
        "  substr2 = list(set(substr))\n",
        "  for i in range(len(substr2)):\n",
        "    tmp[substr2[i]] = 0\n",
        "    for j in range(len(substr)):\n",
        "      tmp[substr2[i]] += (substr[j] == substr2[i])\n",
        "  #print(substr)\n",
        "  #print(substr2)\n",
        "  #print(tmp)\n",
        "  s = sorted(tmp.items(), key=lambda x:x[1], reverse=1)\n",
        "  for i in range(len(s)):\n",
        "    ans[s[i][0]] = s[i][1]\n",
        "  print('Counter(', end='')\n",
        "  print(ans, end='')\n",
        "  print(')')\n",
        "\n",
        "if __name__ == '__main__':\n",
        "\tmain()"
      ],
      "execution_count": 24,
      "outputs": [
        {
          "output_type": "stream",
          "name": "stdout",
          "text": [
            "Counter({'she sells': 4, 'the seashore': 2, 'sure she': 1, 'shells she': 1, 'seashells so': 1, 'surely seashells': 1, 'sells shells': 1, 'seashore im': 1, 'the shells': 1, 'seashore shells': 1, 'so if': 1, 'seashells by': 1, 'sells seashore': 1, 'shells on': 1, 'are surely': 1, 'if she': 1, 'sells are': 1, 'seashore the': 1, 'sells seashells': 1, 'by the': 1, 'on the': 1, 'im sure': 1})\n"
          ]
        }
      ]
    },
    {
      "cell_type": "markdown",
      "metadata": {
        "id": "C6_iP3njMiWK"
      },
      "source": [
        "## 預期答案\n",
        "Counter({'she sells': 4, 'the seashore': 2, 'sells seashells': 1, 'seashells by': 1, 'by the': 1, 'seashore the': 1, 'the shells': 1, 'shells she': 1, 'sells are': 1, 'are surely': 1, 'surely seashells': 1, 'seashells so': 1, 'so if': 1, 'if she': 1, 'sells shells': 1, 'shells on': 1, 'on the': 1, 'seashore im': 1, 'im sure': 1, 'sure she': 1, 'sells seashore': 1, 'seashore shells': 1})"
      ]
    },
    {
      "cell_type": "markdown",
      "metadata": {
        "id": "Xkx7-1gfMiWL"
      },
      "source": [
        "## 作業繳交說明\n",
        "1. 將程式碼從 colab 下載（點選檔案>下載>下載.ipynb），檔名改為 `{學號-姓名.ipynb}` (e.g., `110062626-吳彥祖.ipynb`)\n",
        "2. 將檔案上傳至 google classroom，完成～   \n",
        "3. 我們會執行你的程式並評分ㄛ\n",
        "4. 繳交期限：11/18 晚上 11:59 \n"
      ]
    }
  ]
}